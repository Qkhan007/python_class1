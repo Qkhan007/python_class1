{
 "cells": [
  {
   "cell_type": "code",
   "execution_count": 1,
   "id": "48b29954",
   "metadata": {},
   "outputs": [
    {
     "ename": "NameError",
     "evalue": "name 'dklhldhf' is not defined",
     "output_type": "error",
     "traceback": [
      "\u001b[0;31m---------------------------------------------------------------------------\u001b[0m",
      "\u001b[0;31mNameError\u001b[0m                                 Traceback (most recent call last)",
      "Input \u001b[0;32mIn [1]\u001b[0m, in \u001b[0;36m<cell line: 1>\u001b[0;34m()\u001b[0m\n\u001b[0;32m----> 1\u001b[0m \u001b[43mdklhldhf\u001b[49m\n\u001b[1;32m      2\u001b[0m lkdjlkh\n\u001b[1;32m      3\u001b[0m dfkldf\n",
      "\u001b[0;31mNameError\u001b[0m: name 'dklhldhf' is not defined"
     ]
    }
   ],
   "source": [
    "dklhldhf\n",
    "lkdjlkh\n",
    "dfkldf\n",
    "hfldh\n",
    "dhl"
   ]
  },
  {
   "cell_type": "raw",
   "id": "77f6683c",
   "metadata": {},
   "source": [
    "dlkfkdjklds\n",
    "dfkjdk\n",
    "dfkdddhkld"
   ]
  },
  {
   "cell_type": "code",
   "execution_count": null,
   "id": "1e1909ca",
   "metadata": {},
   "outputs": [],
   "source": [
    "dlkhkhdfk"
   ]
  }
 ],
 "metadata": {
  "kernelspec": {
   "display_name": "Python 3 (ipykernel)",
   "language": "python",
   "name": "python3"
  },
  "language_info": {
   "codemirror_mode": {
    "name": "ipython",
    "version": 3
   },
   "file_extension": ".py",
   "mimetype": "text/x-python",
   "name": "python",
   "nbconvert_exporter": "python",
   "pygments_lexer": "ipython3",
   "version": "3.9.12"
  }
 },
 "nbformat": 4,
 "nbformat_minor": 5
}
